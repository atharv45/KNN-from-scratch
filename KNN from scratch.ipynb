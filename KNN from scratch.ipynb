{
 "cells": [
  {
   "cell_type": "code",
   "execution_count": null,
   "id": "sublime-treasurer",
   "metadata": {},
   "outputs": [],
   "source": [
    "#--------------------KNN from scratch -----------------------------------------------"
   ]
  },
  {
   "cell_type": "code",
   "execution_count": 1,
   "id": "protective-grave",
   "metadata": {},
   "outputs": [],
   "source": [
    "import numpy as np\n",
    "from sklearn.model_selection import train_test_split\n",
    "from sklearn.metrics import accuracy_score\n",
    "from sklearn.preprocessing import LabelEncoder\n",
    "import pandas as pd"
   ]
  },
  {
   "cell_type": "code",
   "execution_count": 2,
   "id": "ahead-mainland",
   "metadata": {},
   "outputs": [],
   "source": [
    "df = pd.read_csv('iris.csv')\n",
    "\n",
    "le = LabelEncoder()\n",
    "df['species_encoded'] = le.fit_transform(df['species'])\n",
    "df.drop(columns = {'species'},inplace = True)"
   ]
  },
  {
   "cell_type": "code",
   "execution_count": 3,
   "id": "ordered-montreal",
   "metadata": {},
   "outputs": [
    {
     "data": {
      "text/plain": [
       "(150, 5)"
      ]
     },
     "execution_count": 3,
     "metadata": {},
     "output_type": "execute_result"
    }
   ],
   "source": [
    "df.shape"
   ]
  },
  {
   "cell_type": "code",
   "execution_count": 4,
   "id": "headed-gateway",
   "metadata": {},
   "outputs": [],
   "source": [
    "x = np.array(df.iloc[:,:4])\n",
    "y = np.array(df['species_encoded'])"
   ]
  },
  {
   "cell_type": "code",
   "execution_count": null,
   "id": "fifteen-manual",
   "metadata": {},
   "outputs": [],
   "source": []
  },
  {
   "cell_type": "code",
   "execution_count": 5,
   "id": "loaded-newton",
   "metadata": {},
   "outputs": [],
   "source": [
    "xtrain, xtest, ytrain, ytest = train_test_split(x,y,test_size = 0.3)\n",
    "\n",
    "k_list = [3,5,7,15,27,31]\n",
    "acc_scores = {}"
   ]
  },
  {
   "cell_type": "code",
   "execution_count": null,
   "id": "demographic-bowling",
   "metadata": {},
   "outputs": [],
   "source": []
  },
  {
   "cell_type": "code",
   "execution_count": 8,
   "id": "dimensional-catalog",
   "metadata": {},
   "outputs": [],
   "source": [
    "def eucliedian_distance(x1,x2):\n",
    "    return np.sqrt(np.sum((x1 - x2)**2))\n",
    "\n",
    "def knn_predict(xtrain , ytrain , xtest , k):\n",
    "\n",
    "    predictions = []\n",
    "    for test_point in xtest:\n",
    "        distances = [eucliedian_distance(test_point ,trainpoint) for trainpoint in xtrain]\n",
    "\n",
    "        neighbors = np.argsort(distances)[:k]\n",
    "        labels = [ ytrain[i] for i in neighbors]\n",
    "\n",
    "        predicted_label = np.bincount(labels).argmax()\n",
    "        predictions.append(predicted_label)\n",
    "\n",
    "    return predictions\n",
    "\n",
    "\n",
    "for k in k_list:\n",
    "    ypred = knn_predict(xtrain,ytrain,xtest,k)\n",
    "    acc = accuracy_score(ytest , ypred) * 100\n",
    "    acc_scores[k] = acc"
   ]
  },
  {
   "cell_type": "code",
   "execution_count": 17,
   "id": "personalized-giving",
   "metadata": {},
   "outputs": [
    {
     "name": "stdout",
     "output_type": "stream",
     "text": [
      "The optimal k value is 3 with Test accuracy 95.55555555555556\n"
     ]
    }
   ],
   "source": [
    "max_key = max(acc_scores , key =acc_scores.get)\n",
    "max_value = acc_scores[max_key]\n",
    "\n",
    "print(f'The optimal k value is {max_key} with Test accuracy {max_value}')"
   ]
  },
  {
   "cell_type": "code",
   "execution_count": null,
   "id": "assumed-implementation",
   "metadata": {},
   "outputs": [],
   "source": []
  },
  {
   "cell_type": "code",
   "execution_count": null,
   "id": "transsexual-equality",
   "metadata": {},
   "outputs": [],
   "source": [
    "#------------------------ KNN using Sklearn ------------------------------------------------- "
   ]
  },
  {
   "cell_type": "code",
   "execution_count": 21,
   "id": "previous-google",
   "metadata": {},
   "outputs": [],
   "source": [
    "from sklearn.neighbors import KNeighborsClassifier"
   ]
  },
  {
   "cell_type": "code",
   "execution_count": 22,
   "id": "round-tracy",
   "metadata": {},
   "outputs": [],
   "source": [
    "lis = [3,5,7,15,27,31]\n",
    "acc_score = {}\n",
    "\n",
    "xtrain, xtest, ytrain, ytest = train_test_split(x,y,test_size = 0.3)\n"
   ]
  },
  {
   "cell_type": "code",
   "execution_count": 23,
   "id": "blank-harris",
   "metadata": {},
   "outputs": [],
   "source": [
    "for i in lis:\n",
    "    knn = KNeighborsClassifier(i)\n",
    "    knn.fit(xtrain,ytrain)\n",
    "    ypred = knn.predict(xtest)\n",
    "    acc = accuracy_score(ytest,ypred) * 100\n",
    "    acc_score[i] = acc\n",
    "    "
   ]
  },
  {
   "cell_type": "code",
   "execution_count": 24,
   "id": "thousand-afghanistan",
   "metadata": {},
   "outputs": [
    {
     "name": "stdout",
     "output_type": "stream",
     "text": [
      "Using Sklearn best optimal is 15 with accuracy 97.77777777777777\n"
     ]
    }
   ],
   "source": [
    "max_k = max(acc_score , key = acc_score.get)\n",
    "max_v = acc_score[max_k]\n",
    "\n",
    "print(f'Using Sklearn best optimal is {max_k} with accuracy {max_v}')"
   ]
  },
  {
   "cell_type": "code",
   "execution_count": null,
   "id": "presidential-phase",
   "metadata": {},
   "outputs": [],
   "source": []
  },
  {
   "cell_type": "code",
   "execution_count": null,
   "id": "moved-inclusion",
   "metadata": {},
   "outputs": [],
   "source": [
    "#It is observed that building KNN from scratch gives accuracy of 95.5% whereas building knn from \n",
    "# Scikit learn gives accuracy of 97.7%"
   ]
  },
  {
   "cell_type": "code",
   "execution_count": null,
   "id": "entitled-yesterday",
   "metadata": {},
   "outputs": [],
   "source": []
  },
  {
   "cell_type": "code",
   "execution_count": null,
   "id": "immune-complaint",
   "metadata": {},
   "outputs": [],
   "source": []
  },
  {
   "cell_type": "code",
   "execution_count": null,
   "id": "forced-stadium",
   "metadata": {},
   "outputs": [],
   "source": []
  },
  {
   "cell_type": "code",
   "execution_count": null,
   "id": "determined-insulation",
   "metadata": {},
   "outputs": [],
   "source": []
  },
  {
   "cell_type": "code",
   "execution_count": null,
   "id": "descending-dinner",
   "metadata": {},
   "outputs": [],
   "source": []
  },
  {
   "cell_type": "code",
   "execution_count": null,
   "id": "classified-atlas",
   "metadata": {},
   "outputs": [],
   "source": []
  },
  {
   "cell_type": "code",
   "execution_count": null,
   "id": "average-dialogue",
   "metadata": {},
   "outputs": [],
   "source": []
  },
  {
   "cell_type": "code",
   "execution_count": null,
   "id": "personal-hands",
   "metadata": {},
   "outputs": [],
   "source": []
  },
  {
   "cell_type": "code",
   "execution_count": null,
   "id": "opposite-former",
   "metadata": {},
   "outputs": [],
   "source": []
  },
  {
   "cell_type": "code",
   "execution_count": null,
   "id": "casual-visiting",
   "metadata": {},
   "outputs": [],
   "source": []
  },
  {
   "cell_type": "code",
   "execution_count": null,
   "id": "annoying-proxy",
   "metadata": {},
   "outputs": [],
   "source": []
  },
  {
   "cell_type": "code",
   "execution_count": null,
   "id": "smaller-asthma",
   "metadata": {},
   "outputs": [],
   "source": []
  },
  {
   "cell_type": "code",
   "execution_count": null,
   "id": "scientific-duplicate",
   "metadata": {},
   "outputs": [],
   "source": []
  },
  {
   "cell_type": "code",
   "execution_count": null,
   "id": "invisible-president",
   "metadata": {},
   "outputs": [],
   "source": []
  },
  {
   "cell_type": "code",
   "execution_count": null,
   "id": "still-arrest",
   "metadata": {},
   "outputs": [],
   "source": []
  },
  {
   "cell_type": "code",
   "execution_count": null,
   "id": "fallen-background",
   "metadata": {},
   "outputs": [],
   "source": [
    "\n"
   ]
  }
 ],
 "metadata": {
  "kernelspec": {
   "display_name": "Python 3",
   "language": "python",
   "name": "python3"
  },
  "language_info": {
   "codemirror_mode": {
    "name": "ipython",
    "version": 3
   },
   "file_extension": ".py",
   "mimetype": "text/x-python",
   "name": "python",
   "nbconvert_exporter": "python",
   "pygments_lexer": "ipython3",
   "version": "3.9.0"
  }
 },
 "nbformat": 4,
 "nbformat_minor": 5
}
